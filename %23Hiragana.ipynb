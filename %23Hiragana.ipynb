{
 "cells": [
  {
   "cell_type": "code",
   "execution_count": 227,
   "metadata": {},
   "outputs": [],
   "source": [
    "import os\n",
    "import matplotlib.pyplot as plt\n",
    "import numpy as np\n",
    "from PIL import Image\n",
    "\n",
    "from sklearn.model_selection import train_test_split\n",
    "from sklearn.neighbors import KNeighborsClassifier\n",
    "from sklearn.decomposition import PCA\n",
    "\n",
    "path = \"../folder/\"\n",
    "result = []\n",
    "\n",
    "for file in os.listdir(path):\n",
    "    try:\n",
    "        if file.endswith(\".jpg\"):\n",
    "            result.append(str(file))\n",
    "    except:\n",
    "        \"\"\n",
    "        \n",
    "# Columns name\n",
    "col = []\n",
    "for i in range(0,1296):\n",
    "    col.append(\"pixel\" + str(i))\n",
    "\n",
    "# Get label of the sample\n",
    "label = []\n",
    "s = result[0].rstrip(\".jpg\")\n",
    "label.append(''.join([i for i in s if not i.isdigit()])[4:])\n",
    "data = Image.open(path+result[0]).convert('L').resize((36,36))\n",
    "data = np.asarray(data).flatten()\n",
    "\n",
    "for img in result[1:]:\n",
    "    label.append(''.join([i for i in img.rstrip(\".jpg\") if not i.isdigit()])[4:])\n",
    "    temp = Image.open(path+img).convert('L').resize((36,36))\n",
    "    temp = np.asarray(temp).flatten()\n",
    "    data = np.vstack([data,temp])\n",
    "    \n",
    "df = pd.DataFrame(data, columns=col)\n",
    "df[\"label\"] = label\n",
    "# img = Image.open(path+result[0]).convert('L')  # convert image to 8-bit grayscale"
   ]
  },
  {
   "cell_type": "code",
   "execution_count": 224,
   "metadata": {},
   "outputs": [
    {
     "data": {
      "image/png": "[encoded data removed]",
      "text/plain": [
       "<matplotlib.figure.Figure at 0x8ae2ab0>"
      ]
     },
     "metadata": {},
     "output_type": "display_data"
    }
   ],
   "source": [
    "plt.imshow(np.array(df.iloc[999,:-1].as_matrix().reshape((36,36)), dtype=float), cmap=\"bone_r\")\n",
    "plt.show()"
   ]
  },
  {
   "cell_type": "code",
   "execution_count": 230,
   "metadata": {},
   "outputs": [],
   "source": [
    "target = df[\"label\"]\n",
    "train = df.drop(\"label\",1)"
   ]
  },
  {
   "cell_type": "code",
   "execution_count": 252,
   "metadata": {},
   "outputs": [],
   "source": [
    "trainX, testX, trainY, testY = train_test_split(df, target, train_size=0.8, random_state=0)"
   ]
  },
  {
   "cell_type": "code",
   "execution_count": 259,
   "metadata": {},
   "outputs": [],
   "source": [
    "trainX = trainX.drop(\"label\",1)\n",
    "testX = testX.drop(\"label\",1)"
   ]
  },
  {
   "cell_type": "code",
   "execution_count": 330,
   "metadata": {},
   "outputs": [
    {
     "name": "stdout",
     "output_type": "stream",
     "text": [
      "[0.76062849172742109, 0.73693179041561718, 0.72125268858550706, 0.70049885405978995, 0.6806129665591516, 0.64814715644590648, 0.64086458973562688, 0.60019738018480262, 0.58713757729284777, 0.56322548573953257]\n"
     ]
    }
   ],
   "source": [
    "from sklearn.model_selection import cross_val_score\n",
    "# creating odd list of K for KNN\n",
    "myList = list(range(1,20))\n",
    "\n",
    "# subsetting just the odd ones\n",
    "neighbors = filter(lambda x: x % 2 != 0, myList)\n",
    "\n",
    "# empty list that will hold cv scores\n",
    "cv_scores = []\n",
    "\n",
    "# perform 10-fold cross validation\n",
    "for k in neighbors:\n",
    "    knn = KNeighborsClassifier(n_neighbors=k)\n",
    "    scores = cross_val_score(knn, trainX, trainY, cv=10, scoring='accuracy')\n",
    "    cv_scores.append(scores.mean())\n",
    "\n",
    "print(cv_scores)"
   ]
  },
  {
   "cell_type": "code",
   "execution_count": 336,
   "metadata": {},
   "outputs": [],
   "source": [
    "# k=1 the optimum k in cv10\n",
    "pca = PCA(n_components=50)\n",
    "pca.fit(train)\n",
    "transform_train = pca.transform(trainX)\n",
    "transform_test = pca.transform(testX)\n",
    "\n",
    "clf = KNeighborsClassifier(n_neighbors=1)\n",
    "clf.fit(transform_train, trainY)\n",
    "results=clf.predict(transform_test)"
   ]
  },
  {
   "cell_type": "code",
   "execution_count": 337,
   "metadata": {},
   "outputs": [
    {
     "data": {
      "text/plain": [
       "0.82499999999999996"
      ]
     },
     "execution_count": 337,
     "metadata": {},
     "output_type": "execute_result"
    }
   ],
   "source": [
    "sum(results == testY)/200"
   ]
  }
 ],
 "metadata": {
  "kernelspec": {
   "display_name": "Python 3",
   "language": "python",
   "name": "python3"
  },
  "language_info": {
   "codemirror_mode": {
    "name": "ipython",
    "version": 3
   },
   "file_extension": ".py",
   "mimetype": "text/x-python",
   "name": "python",
   "nbconvert_exporter": "python",
   "pygments_lexer": "ipython3",
   "version": "3.6.1"
  }
 },
 "nbformat": 4,
 "nbformat_minor": 2
}
